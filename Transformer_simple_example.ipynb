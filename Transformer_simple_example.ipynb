{
  "nbformat": 4,
  "nbformat_minor": 0,
  "metadata": {
    "colab": {
      "name": "Transformer_simple_example.ipynb",
      "provenance": [],
      "collapsed_sections": [],
      "include_colab_link": true
    },
    "kernelspec": {
      "name": "python3",
      "language": "python",
      "display_name": "Python 3"
    },
    "accelerator": "GPU",
    "pycharm": {
      "stem_cell": {
        "cell_type": "raw",
        "source": [],
        "metadata": {
          "collapsed": false
        }
      }
    }
  },
  "cells": [
    {
      "cell_type": "markdown",
      "metadata": {
        "id": "view-in-github",
        "colab_type": "text"
      },
      "source": [
        "<a href=\"https://colab.research.google.com/github/AoShuang92/Transformer_simple_example/blob/master/Transformer_simple_example.ipynb\" target=\"_parent\"><img src=\"https://colab.research.google.com/assets/colab-badge.svg\" alt=\"Open In Colab\"/></a>"
      ]
    },
    {
      "cell_type": "code",
      "metadata": {
        "id": "g831xANXh2HY",
        "colab_type": "code",
        "colab": {}
      },
      "source": [
        "# http://pytorch.org/\n",
        "from os.path import exists\n",
        "from wheel.pep425tags import get_abbr_impl, get_impl_ver, get_abi_tag\n",
        "platform = '{}{}-{}'.format(get_abbr_impl(), get_impl_ver(), get_abi_tag())\n",
        "cuda_output = !ldconfig -p|grep cudart.so|sed -e 's/.*\\.\\([0-9]*\\)\\.\\([0-9]*\\)$/cu\\1\\2/'\n",
        "accelerator = cuda_output[0] if exists('/dev/nvidia0') else 'cpu'"
      ],
      "execution_count": null,
      "outputs": []
    },
    {
      "cell_type": "code",
      "metadata": {
        "id": "nNemnO18h6PV",
        "colab_type": "code",
        "colab": {
          "base_uri": "https://localhost:8080/",
          "height": 1000
        },
        "outputId": "72e5ee53-0a8d-484e-e029-4f6931e94148"
      },
      "source": [
        "'''\n",
        "  code by Tae Hwan Jung(Jeff Jung) @graykode, Derek Miller @dmmiller612\n",
        "  Reference : https://github.com/jadore801120/attention-is-all-you-need-pytorch\n",
        "              https://github.com/JayParks/transformer\n",
        "'''\n",
        "import numpy as np\n",
        "import torch\n",
        "import torch.nn as nn\n",
        "import torch.optim as optim\n",
        "from torch.autograd import Variable\n",
        "import matplotlib.pyplot as plt\n",
        "\n",
        "dtype = torch.FloatTensor\n",
        "# S: Symbol that shows starting of decoding input\n",
        "# E: Symbol that shows starting of decoding output\n",
        "# P: Symbol that will fill in blank sequence if current batch data size is short than time steps\n",
        "sentences = ['ich mochte ein bier P', 'S i want a beer', 'i want a beer E']\n",
        "\n",
        "# Transformer Parameters\n",
        "# Padding Should be Zero\n",
        "src_vocab = {'P' : 0, 'ich' : 1, 'mochte' : 2, 'ein' : 3, 'bier' : 4}\n",
        "src_vocab_size = len(src_vocab)\n",
        "\n",
        "tgt_vocab = {'P' : 0, 'i' : 1, 'want' : 2, 'a' : 3, 'beer' : 4, 'S' : 5, 'E' : 6}\n",
        "number_dict = {i: w for i, w in enumerate(tgt_vocab)} #number_dict {0: 'P', 1: 'i', 2: 'want', 3: 'a', 4: 'beer', 5: 'S', 6: 'E'}\n",
        "\n",
        "tgt_vocab_size = len(tgt_vocab)\n",
        "\n",
        "src_len = 5\n",
        "tgt_len = 5\n",
        "\n",
        "d_model = 512  # Embedding Size\n",
        "d_ff = 2048 # FeedForward dimension\n",
        "d_k = d_v = 64  # dimension of K(=Q), V\n",
        "n_layers = 6  # number of Encoder of Decoder Layer\n",
        "n_heads = 8  # number of heads in Multi-Head Attention\n",
        "\n",
        "def make_batch(sentences):\n",
        "    input_batch = [[src_vocab[n] for n in sentences[0].split()]]\n",
        "    #print(\"input_batch\",input_batch) #[[1, 2, 3, 4, 0]]\n",
        "    output_batch = [[tgt_vocab[n] for n in sentences[1].split()]]\n",
        "    #print(\"output_batch\",output_batch) #[[5, 1, 2, 3, 4]]\n",
        "    target_batch = [[tgt_vocab[n] for n in sentences[2].split()]]\n",
        "    #print(\"target_batch\",target_batch) # [[1, 2, 3, 4, 6]]\n",
        "    return Variable(torch.LongTensor(input_batch)), Variable(torch.LongTensor(output_batch)), Variable(torch.LongTensor(target_batch))\n",
        "\n",
        "def get_sinusoid_encoding_table(n_position, d_model):\n",
        "    def cal_angle(position, hid_idx):\n",
        "        #print('hid_idx',hid_idx) #hid_idx is int\n",
        "        #print(\"return1\", position / np.power(10000, 2 * (hid_idx // 2) / d_model))\n",
        "        return position / np.power(10000, 2 * (hid_idx // 2) / d_model)\n",
        "    def get_posi_angle_vec(position):\n",
        "        return [cal_angle(position, hid_j) for hid_j in range(d_model)]\n",
        "\n",
        "    sinusoid_table = np.array([get_posi_angle_vec(pos_i) for pos_i in range(n_position)])\n",
        "    sinusoid_table[:, 0::2] = np.sin(sinusoid_table[:, 0::2])  # dim 2i\n",
        "    sinusoid_table[:, 1::2] = np.cos(sinusoid_table[:, 1::2])  # dim 2i+1\n",
        "    return torch.FloatTensor(sinusoid_table)\n",
        "\n",
        "def get_attn_pad_mask(seq_q, seq_k):\n",
        "    batch_size, len_q = seq_q.size()\n",
        "    #print(\"batch_size\",batch_size) #1\n",
        "    #print(\"len_q\",len_q) # 5\n",
        "    batch_size, len_k = seq_k.size()\n",
        "    #print(\"len_k\",len_k) #5\n",
        "    # eq(zero) is PAD token\n",
        "    #only eq(zero) equal=0 is true, others all false\n",
        "    pad_attn_mask = seq_k.data.eq(0).unsqueeze(1)  # batch_size x 1 x len_k(=len_q), one is masking\n",
        "    #print(\"pad_attn_mask\",pad_attn_mask.size()) #[1, 1, 5]\n",
        "    return pad_attn_mask.expand(batch_size, len_q, len_k)  # batch_size x len_q x len_k\n",
        "\n",
        "def get_attn_subsequent_mask(seq):\n",
        "    attn_shape = [seq.size(0), seq.size(1), seq.size(1)]\n",
        "    #print(\"attn_shape\",attn_shape) #[1, 5, 5]\n",
        "    subsequent_mask = np.triu(np.ones(attn_shape), k=1)\n",
        "    #print(\"subsequent_mask\",subsequent_mask) # to set the upper triangle value as 1, other parts as 0\n",
        "    subsequent_mask = torch.from_numpy(subsequent_mask).byte()\n",
        "    #print(\"subsequent_mask\",subsequent_mask.size()) #([1, 5, 5])\n",
        "    return subsequent_mask\n",
        "\n",
        "class ScaledDotProductAttention(nn.Module):\n",
        "    def __init__(self):\n",
        "        super(ScaledDotProductAttention, self).__init__()\n",
        "\n",
        "    def forward(self, Q, K, V, attn_mask):\n",
        "        #print(\"Q\",Q.size()) #([1, 8, 5, 64])\n",
        "        #print(\"K\",K.size()) #([1, 8, 5, 64])\n",
        "        #print(\"V\",V.size()) #([1, 8, 5, 64])\n",
        "        scores = torch.matmul(Q, K.transpose(-1, -2)) / np.sqrt(d_k) # scores : [batch_size x n_heads x len_q(=len_k) x len_k(=len_q)]\n",
        "        #print(\"scores\",scores.size()) #([1, 8, 5, 5])\n",
        "        scores.masked_fill_(attn_mask, -1e9) # Fills elements of self tensor with value where mask is one.\n",
        "        #print(\"scores1\",scores.size()) #([1, 8, 5, 5])\n",
        "        attn = nn.Softmax(dim=-1)(scores)\n",
        "        #print(\"attn\",attn.size()) #([1, 8, 5, 5])\n",
        "        context = torch.matmul(attn, V)\n",
        "        #print(\"context\",context.size()) #([1, 8, 5, 64])\n",
        "        return context, attn\n",
        "\n",
        "class MultiHeadAttention(nn.Module):\n",
        "    def __init__(self):\n",
        "        super(MultiHeadAttention, self).__init__()\n",
        "        self.W_Q = nn.Linear(d_model, d_k * n_heads)\n",
        "        self.W_K = nn.Linear(d_model, d_k * n_heads)\n",
        "        self.W_V = nn.Linear(d_model, d_v * n_heads)\n",
        "    def forward(self, Q, K, V, attn_mask):\n",
        "        # q: [batch_size x len_q x d_model], k: [batch_size x len_k x d_model], v: [batch_size x len_k x d_model]\n",
        "        residual, batch_size = Q, Q.size(0)\n",
        "        #print(\"residual\",residual.size()) #([1, 5, 512])\n",
        "        #print(\"batch_size\",batch_size) #1\n",
        "        # (B, S, D) -proj-> (B, S, D) -split-> (B, S, H, W) -trans-> (B, H, S, W)\n",
        "        q_s = self.W_Q(Q).view(batch_size, -1, n_heads, d_k).transpose(1,2)  # q_s: [batch_size x n_heads x len_q x d_k]\n",
        "        #print(\"q_s\",q_s.size()) #([1, 8, 5, 64])\n",
        "        k_s = self.W_K(K).view(batch_size, -1, n_heads, d_k).transpose(1,2)  # k_s: [batch_size x n_heads x len_k x d_k]\n",
        "        #print(\"k_s\",q_s.size()) #([1, 8, 5, 64])\n",
        "        v_s = self.W_V(V).view(batch_size, -1, n_heads, d_v).transpose(1,2)  # v_s: [batch_size x n_heads x len_k x d_v]\n",
        "        #print(\"v_s\",q_s.size()) #([1, 8, 5, 64])\n",
        "        attn_mask = attn_mask.unsqueeze(1).repeat(1, n_heads, 1, 1) # attn_mask : [batch_size x n_heads x len_q x len_k]\n",
        "        #print(\"attn_mask\",attn_mask.size()) #([1, 8, 5, 5])\n",
        "        # context: [batch_size x n_heads x len_q x d_v], attn: [batch_size x n_heads x len_q(=len_k) x len_k(=len_q)]\n",
        "        context, attn = ScaledDotProductAttention()(q_s, k_s, v_s, attn_mask)\n",
        "        #print(\"context\",context.size()) #[1, 8, 5, 64]\n",
        "        #print(\"attn\",attn.size()) #([1, 8, 5, 5])\n",
        "        context = context.transpose(1, 2).contiguous().view(batch_size, -1, n_heads * d_v) # context: [batch_size x len_q x n_heads * d_v]\n",
        "        #print(\"context\",context.size()) #([1, 5, 512])\n",
        "        output = nn.Linear(n_heads * d_v, d_model)(context)\n",
        "        #print(\"output\",output.size())#([1, 5, 512])\n",
        "        #print(\"return_nn\",(nn.LayerNorm(d_model)(output + residual)).size()) #([1, 5, 512])\n",
        "        \n",
        "        return nn.LayerNorm(d_model)(output + residual), attn # output: [batch_size x len_q x d_model]\n",
        "\n",
        "class PoswiseFeedForwardNet(nn.Module):\n",
        "    def __init__(self):\n",
        "        super(PoswiseFeedForwardNet, self).__init__()\n",
        "        #kernel_size = 1 : like FC layer\n",
        "        self.conv1 = nn.Conv1d(in_channels=d_model, out_channels=d_ff, kernel_size=1) \n",
        "        self.conv2 = nn.Conv1d(in_channels=d_ff, out_channels=d_model, kernel_size=1)\n",
        "\n",
        "    def forward(self, inputs):\n",
        "        residual = inputs # inputs : [batch_size, len_q, d_model]\n",
        "        #print(\"residual\",residual.size()) #([1, 5, 512])\n",
        "        output = nn.ReLU()(self.conv1(inputs.transpose(1, 2)))\n",
        "        #print(\"output\",output.size()) #([1, 2048, 5])\n",
        "        output = self.conv2(output).transpose(1, 2)\n",
        "        #print(\"output2\",output.size()) #([1, 5, 512])\n",
        "        return nn.LayerNorm(d_model)(output + residual)\n",
        "\n",
        "class EncoderLayer(nn.Module):\n",
        "    def __init__(self):\n",
        "        super(EncoderLayer, self).__init__()\n",
        "        self.enc_self_attn = MultiHeadAttention()\n",
        "        self.pos_ffn = PoswiseFeedForwardNet()\n",
        "\n",
        "    def forward(self, enc_inputs, enc_self_attn_mask):\n",
        "        enc_outputs, attn = self.enc_self_attn(enc_inputs, enc_inputs, enc_inputs, enc_self_attn_mask) # enc_inputs to same Q,K,V\n",
        "        #print(\"enc_outputs\",enc_outputs.size()) #([1, 5, 512])\n",
        "        #print(\"attn\",attn.size()) #([1, 8, 5, 5])\n",
        "        enc_outputs = self.pos_ffn(enc_outputs) # enc_outputs: [batch_size x len_q x d_model]\n",
        "        #print(\"enc_outputs\",enc_outputs.size()) #([1, 5, 512])\n",
        "        return enc_outputs, attn\n",
        "\n",
        "class DecoderLayer(nn.Module):\n",
        "    def __init__(self):\n",
        "        super(DecoderLayer, self).__init__()\n",
        "        self.dec_self_attn = MultiHeadAttention()\n",
        "        self.dec_enc_attn = MultiHeadAttention()\n",
        "        self.pos_ffn = PoswiseFeedForwardNet()\n",
        "\n",
        "    def forward(self, dec_inputs, enc_outputs, dec_self_attn_mask, dec_enc_attn_mask):\n",
        "        dec_outputs, dec_self_attn = self.dec_self_attn(dec_inputs, dec_inputs, dec_inputs, dec_self_attn_mask)\n",
        "        #print(\"dec_self_attn\",dec_self_attn.size()) #([1, 8, 5, 5])\n",
        "        #print(\"dec_outputs\",dec_outputs.size()) #([1, 5, 512])\n",
        "        dec_outputs, dec_enc_attn = self.dec_enc_attn(dec_outputs, enc_outputs, enc_outputs, dec_enc_attn_mask)\n",
        "        #print(\"dec_outputs1\",dec_outputs.size())#([1, 5, 512])\n",
        "        #print(\"dec_enc_attn\",dec_enc_attn.size())#([1, 8, 5, 5])\n",
        "        dec_outputs = self.pos_ffn(dec_outputs)\n",
        "        #print(\"dec_outputs2\",dec_outputs.size())#([1, 5, 512])\n",
        "        return dec_outputs, dec_self_attn, dec_enc_attn\n",
        "\n",
        "class Encoder(nn.Module):\n",
        "    def __init__(self):\n",
        "        super(Encoder, self).__init__()\n",
        "        self.src_emb = nn.Embedding(src_vocab_size, d_model) #d_model=embedding size=512\n",
        "        self.pos_emb = nn.Embedding.from_pretrained(get_sinusoid_encoding_table(src_len+1, d_model),freeze=True)\n",
        "        self.layers = nn.ModuleList([EncoderLayer() for _ in range(n_layers)])\n",
        "\n",
        "    def forward(self, enc_inputs): # enc_inputs : [batch_size x source_len]\n",
        "        #print(\"enc_inputs\",enc_inputs) #([[1, 2, 3, 4, 0]])\n",
        "        enc_outputs = self.src_emb(enc_inputs) + self.pos_emb(torch.LongTensor([[1,2,3,4,0]])) #same?\n",
        "        #print(\"self.src_emb(enc_inputs)\",self.src_emb(enc_inputs).size()) #([1, 5, 512])\n",
        "        #print(\"self.pos_emb(torch.LongTensor([[1,2,3,4,0]]))\",self.pos_emb(torch.LongTensor([[1,2,3,4,0]])).size()) #([1, 5, 512])\n",
        "        #print(\"enc_outputs\",enc_outputs.size()) #[1, 5, 512]\n",
        "        enc_self_attn_mask = get_attn_pad_mask(enc_inputs, enc_inputs)\n",
        "        #print(\"enc_self_attn_mask\",enc_self_attn_mask.size()) #[1, 5, 5]\n",
        "        #print(\"enc_self_attn_mask\",enc_self_attn_mask)\n",
        "        enc_self_attns = []\n",
        "        for layer in self.layers:\n",
        "            enc_outputs, enc_self_attn = layer(enc_outputs, enc_self_attn_mask)\n",
        "            enc_self_attns.append(enc_self_attn)\n",
        "        #print(\"enc_self_attns\",len(enc_self_attns)) #6\n",
        "        return enc_outputs, enc_self_attns\n",
        "\n",
        "class Decoder(nn.Module):\n",
        "    def __init__(self):\n",
        "        super(Decoder, self).__init__()\n",
        "        self.tgt_emb = nn.Embedding(tgt_vocab_size, d_model)\n",
        "        self.pos_emb = nn.Embedding.from_pretrained(get_sinusoid_encoding_table(tgt_len+1, d_model),freeze=True)\n",
        "        self.layers = nn.ModuleList([DecoderLayer() for _ in range(n_layers)])\n",
        "\n",
        "    def forward(self, dec_inputs, enc_inputs, enc_outputs): # dec_inputs : [batch_size x target_len]\n",
        "        dec_outputs = self.tgt_emb(dec_inputs) + self.pos_emb(torch.LongTensor([[5,1,2,3,4]]))\n",
        "        #print(\"dec_outputs\",dec_outputs.size()) #([1, 5, 512])\n",
        "        dec_self_attn_pad_mask = get_attn_pad_mask(dec_inputs, dec_inputs)\n",
        "        #print(\"dec_self_attn_pad_mask\",dec_self_attn_pad_mask.size()) #([1, 5, 5])\n",
        "        dec_self_attn_subsequent_mask = get_attn_subsequent_mask(dec_inputs)\n",
        "        #print(\"dec_self_attn_subsequent_mask\",dec_self_attn_subsequent_mask.size()) #([1, 5, 5])\n",
        "        dec_self_attn_mask = torch.gt((dec_self_attn_pad_mask + dec_self_attn_subsequent_mask), 0)\n",
        "        #print(\"dec_self_attn_mask\",dec_self_attn_mask) #torch.gt: return true/false\n",
        "\n",
        "        dec_enc_attn_mask = get_attn_pad_mask(dec_inputs, enc_inputs)\n",
        "        #print(\"dec_enc_attn_mask\",dec_enc_attn_mask.size()) #([1, 5, 5])\n",
        "        dec_self_attns, dec_enc_attns = [], []\n",
        "        for layer in self.layers:\n",
        "            dec_outputs, dec_self_attn, dec_enc_attn = layer(dec_outputs, enc_outputs, dec_self_attn_mask, dec_enc_attn_mask)\n",
        "            dec_self_attns.append(dec_self_attn)\n",
        "            dec_enc_attns.append(dec_enc_attn)\n",
        "        return dec_outputs, dec_self_attns, dec_enc_attns\n",
        "\n",
        "class Transformer(nn.Module):\n",
        "    def __init__(self):\n",
        "        super(Transformer, self).__init__()\n",
        "        self.encoder = Encoder()\n",
        "        self.decoder = Decoder()\n",
        "        self.projection = nn.Linear(d_model, tgt_vocab_size, bias=False)\n",
        "    def forward(self, enc_inputs, dec_inputs):\n",
        "        enc_outputs, enc_self_attns = self.encoder(enc_inputs)\n",
        "        #print(\"enc_outputs\",enc_outputs.size()) #[1, 5, 512])\n",
        "        #print(\"enc_self_attns\",len(enc_self_attns)) # 6 #list\n",
        "        #print(\"enc_self_attns\",enc_self_attns[0].size()) #([1, 8, 5, 5])\n",
        "        dec_outputs, dec_self_attns, dec_enc_attns = self.decoder(dec_inputs, enc_inputs, enc_outputs)\n",
        "        dec_logits = self.projection(dec_outputs) # dec_logits : [batch_size x src_vocab_size x tgt_vocab_size]\n",
        "        #print(\"dec_logits\",dec_logits.size()) #([1, 5, 7])\n",
        "        #print((dec_logits.view(-1, dec_logits.size(-1))).size()) #([5, 7])\n",
        "        return dec_logits.view(-1, dec_logits.size(-1)), enc_self_attns, dec_self_attns, dec_enc_attns\n",
        "\n",
        "model = Transformer()\n",
        "\n",
        "criterion = nn.CrossEntropyLoss()\n",
        "optimizer = optim.Adam(model.parameters(), lr=0.001)\n",
        "\n",
        "def showgraph(attn):\n",
        "    attn = attn[-1].squeeze(0)[0]\n",
        "    attn = attn.squeeze(0).data.numpy()\n",
        "    fig = plt.figure(figsize=(n_heads, n_heads)) # [n_heads, n_heads]\n",
        "    ax = fig.add_subplot(1, 1, 1)\n",
        "    ax.matshow(attn, cmap='viridis')\n",
        "    ax.set_xticklabels(['']+sentences[0].split(), fontdict={'fontsize': 14}, rotation=90)\n",
        "    ax.set_yticklabels(['']+sentences[2].split(), fontdict={'fontsize': 14})\n",
        "    plt.show()\n",
        "\n",
        "for epoch in range(20):\n",
        "    optimizer.zero_grad()\n",
        "    enc_inputs, dec_inputs, target_batch = make_batch(sentences)\n",
        "    outputs, enc_self_attns, dec_self_attns, dec_enc_attns = model(enc_inputs, dec_inputs)\n",
        "    loss = criterion(outputs, target_batch.contiguous().view(-1))\n",
        "    print('Epoch:', '%04d' % (epoch + 1), 'cost =', '{:.6f}'.format(loss))\n",
        "    loss.backward()\n",
        "    optimizer.step()\n",
        "\n",
        "# Test\n",
        "predict, _, _, _ = model(enc_inputs, dec_inputs)\n",
        "predict = predict.data.max(1, keepdim=True)[1]\n",
        "print(sentences[0], '->', [number_dict[n.item()] for n in predict.squeeze()])\n",
        "\n",
        "print('first head of last state enc_self_attns')\n",
        "showgraph(enc_self_attns)\n",
        "\n",
        "print('first head of last state dec_self_attns')\n",
        "showgraph(dec_self_attns)\n",
        "\n",
        "print('first head of last state dec_enc_attns')\n",
        "showgraph(dec_enc_attns)"
      ],
      "execution_count": null,
      "outputs": [
        {
          "output_type": "stream",
          "text": [
            "torch.Size([5, 7])\n",
            "Epoch: 0001 cost = 1.927750\n",
            "torch.Size([5, 7])\n",
            "Epoch: 0002 cost = 0.271256\n",
            "torch.Size([5, 7])\n",
            "Epoch: 0003 cost = 0.095381\n",
            "torch.Size([5, 7])\n",
            "Epoch: 0004 cost = 0.012578\n",
            "torch.Size([5, 7])\n",
            "Epoch: 0005 cost = 0.015600\n",
            "torch.Size([5, 7])\n",
            "Epoch: 0006 cost = 0.029517\n",
            "torch.Size([5, 7])\n",
            "Epoch: 0007 cost = 0.010804\n",
            "torch.Size([5, 7])\n",
            "Epoch: 0008 cost = 0.008447\n",
            "torch.Size([5, 7])\n",
            "Epoch: 0009 cost = 0.001204\n",
            "torch.Size([5, 7])\n",
            "Epoch: 0010 cost = 0.000691\n",
            "torch.Size([5, 7])\n",
            "Epoch: 0011 cost = 0.008789\n",
            "torch.Size([5, 7])\n",
            "Epoch: 0012 cost = 0.001940\n",
            "torch.Size([5, 7])\n",
            "Epoch: 0013 cost = 0.000990\n",
            "torch.Size([5, 7])\n",
            "Epoch: 0014 cost = 0.000338\n",
            "torch.Size([5, 7])\n",
            "Epoch: 0015 cost = 0.001743\n",
            "torch.Size([5, 7])\n",
            "Epoch: 0016 cost = 0.000110\n",
            "torch.Size([5, 7])\n",
            "Epoch: 0017 cost = 0.000216\n",
            "torch.Size([5, 7])\n",
            "Epoch: 0018 cost = 0.000091\n",
            "torch.Size([5, 7])\n",
            "Epoch: 0019 cost = 0.000079\n",
            "torch.Size([5, 7])\n",
            "Epoch: 0020 cost = 0.000238\n",
            "torch.Size([5, 7])\n",
            "ich mochte ein bier P -> ['i', 'want', 'a', 'beer', 'E']\n",
            "first head of last state enc_self_attns\n"
          ],
          "name": "stdout"
        },
        {
          "output_type": "display_data",
          "data": {
            "image/png": "[encoded data removed]",
            "text/plain": [
              "<Figure size 576x576 with 1 Axes>"
            ]
          },
          "metadata": {
            "tags": [],
            "needs_background": "light"
          }
        },
        {
          "output_type": "stream",
          "text": [
            "first head of last state dec_self_attns\n"
          ],
          "name": "stdout"
        },
        {
          "output_type": "display_data",
          "data": {
            "image/png": "[encoded data removed]",
            "text/plain": [
              "<Figure size 576x576 with 1 Axes>"
            ]
          },
          "metadata": {
            "tags": [],
            "needs_background": "light"
          }
        },
        {
          "output_type": "stream",
          "text": [
            "first head of last state dec_enc_attns\n"
          ],
          "name": "stdout"
        },
        {
          "output_type": "display_data",
          "data": {
            "image/png": "[encoded data removed]",
            "text/plain": [
              "<Figure size 576x576 with 1 Axes>"
            ]
          },
          "metadata": {
            "tags": [],
            "needs_background": "light"
          }
        }
      ]
    },
    {
      "cell_type": "code",
      "metadata": {
        "id": "dJB-seWdOxDc",
        "colab_type": "code",
        "colab": {}
      },
      "source": [
        "[[[0. 1. 1. 1. 1.]\n",
        "  [0. 0. 1. 1. 1.]\n",
        "  [0. 0. 0. 1. 1.]\n",
        "  [0. 0. 0. 0. 1.]\n",
        "  [0. 0. 0. 0. 0.]]]"
      ],
      "execution_count": null,
      "outputs": []
    },
    {
      "cell_type": "code",
      "metadata": {
        "id": "YT8SuGKxmfG9",
        "colab_type": "code",
        "colab": {
          "base_uri": "https://localhost:8080/",
          "height": 183
        },
        "outputId": "7ec8ed99-7b67-454c-b76e-bdcbd442e531"
      },
      "source": [
        "k  = np.triu([[1,2,3],[4,5,6],[7,8,9],[10,11,12]], 0)\n",
        "k"
      ],
      "execution_count": null,
      "outputs": [
        {
          "output_type": "error",
          "ename": "NameError",
          "evalue": "ignored",
          "traceback": [
            "\u001b[0;31m---------------------------------------------------------------------------\u001b[0m",
            "\u001b[0;31mNameError\u001b[0m                                 Traceback (most recent call last)",
            "\u001b[0;32m<ipython-input-1-8f3fea525fff>\u001b[0m in \u001b[0;36m<module>\u001b[0;34m()\u001b[0m\n\u001b[0;32m----> 1\u001b[0;31m \u001b[0mk\u001b[0m  \u001b[0;34m=\u001b[0m \u001b[0mnp\u001b[0m\u001b[0;34m.\u001b[0m\u001b[0mtriu\u001b[0m\u001b[0;34m(\u001b[0m\u001b[0;34m[\u001b[0m\u001b[0;34m[\u001b[0m\u001b[0;36m1\u001b[0m\u001b[0;34m,\u001b[0m\u001b[0;36m2\u001b[0m\u001b[0;34m,\u001b[0m\u001b[0;36m3\u001b[0m\u001b[0;34m]\u001b[0m\u001b[0;34m,\u001b[0m\u001b[0;34m[\u001b[0m\u001b[0;36m4\u001b[0m\u001b[0;34m,\u001b[0m\u001b[0;36m5\u001b[0m\u001b[0;34m,\u001b[0m\u001b[0;36m6\u001b[0m\u001b[0;34m]\u001b[0m\u001b[0;34m,\u001b[0m\u001b[0;34m[\u001b[0m\u001b[0;36m7\u001b[0m\u001b[0;34m,\u001b[0m\u001b[0;36m8\u001b[0m\u001b[0;34m,\u001b[0m\u001b[0;36m9\u001b[0m\u001b[0;34m]\u001b[0m\u001b[0;34m,\u001b[0m\u001b[0;34m[\u001b[0m\u001b[0;36m10\u001b[0m\u001b[0;34m,\u001b[0m\u001b[0;36m11\u001b[0m\u001b[0;34m,\u001b[0m\u001b[0;36m12\u001b[0m\u001b[0;34m]\u001b[0m\u001b[0;34m]\u001b[0m\u001b[0;34m,\u001b[0m \u001b[0;36m0\u001b[0m\u001b[0;34m)\u001b[0m\u001b[0;34m\u001b[0m\u001b[0;34m\u001b[0m\u001b[0m\n\u001b[0m\u001b[1;32m      2\u001b[0m \u001b[0mk\u001b[0m\u001b[0;34m\u001b[0m\u001b[0;34m\u001b[0m\u001b[0m\n",
            "\u001b[0;31mNameError\u001b[0m: name 'np' is not defined"
          ]
        }
      ]
    },
    {
      "cell_type": "code",
      "metadata": {
        "id": "iCfQNPmHmhqI",
        "colab_type": "code",
        "colab": {
          "base_uri": "https://localhost:8080/",
          "height": 104
        },
        "outputId": "522b4b87-82fd-416e-bc3b-ac39a0a1793f"
      },
      "source": [
        "pad_attn_mask = torch.Tensor([1,2,3,4,0])\n",
        "pad_attn_mask.expand(1, 5, 5) "
      ],
      "execution_count": null,
      "outputs": [
        {
          "output_type": "execute_result",
          "data": {
            "text/plain": [
              "tensor([[[1., 2., 3., 4., 0.],\n",
              "         [1., 2., 3., 4., 0.],\n",
              "         [1., 2., 3., 4., 0.],\n",
              "         [1., 2., 3., 4., 0.],\n",
              "         [1., 2., 3., 4., 0.]]])"
            ]
          },
          "metadata": {
            "tags": []
          },
          "execution_count": 4
        }
      ]
    },
    {
      "cell_type": "code",
      "metadata": {
        "id": "CwVGUKfQzUTr",
        "colab_type": "code",
        "colab": {
          "base_uri": "https://localhost:8080/",
          "height": 34
        },
        "outputId": "4d817127-328f-4bc7-c802-a1e3f66fb93d"
      },
      "source": [
        "import torch\n",
        "s = torch.Tensor([1,2,3,4,0])\n",
        "s.size()"
      ],
      "execution_count": null,
      "outputs": [
        {
          "output_type": "execute_result",
          "data": {
            "text/plain": [
              "torch.Size([5])"
            ]
          },
          "metadata": {
            "tags": []
          },
          "execution_count": 2
        }
      ]
    },
    {
      "cell_type": "code",
      "metadata": {
        "id": "mtV1Ez9KWjkp",
        "colab_type": "code",
        "colab": {}
      },
      "source": [
        "s = s[:,None,None]"
      ],
      "execution_count": null,
      "outputs": []
    },
    {
      "cell_type": "code",
      "metadata": {
        "id": "CCCmznh8WtB8",
        "colab_type": "code",
        "colab": {
          "base_uri": "https://localhost:8080/",
          "height": 34
        },
        "outputId": "d8e78627-a7f1-441b-ed3b-05fa71154890"
      },
      "source": [
        "s.size()"
      ],
      "execution_count": null,
      "outputs": [
        {
          "output_type": "execute_result",
          "data": {
            "text/plain": [
              "torch.Size([5, 1, 1])"
            ]
          },
          "metadata": {
            "tags": []
          },
          "execution_count": 9
        }
      ]
    },
    {
      "cell_type": "code",
      "metadata": {
        "id": "H3bb6XHcWu9A",
        "colab_type": "code",
        "colab": {
          "base_uri": "https://localhost:8080/",
          "height": 191
        },
        "outputId": "dbd12c72-9d7f-4dda-ad67-02238942ebde"
      },
      "source": [
        "import numpy as np\n",
        "up_tri = np.triu([[1,2,3],[4,5,6],[7,8,9],[10,11,12]], -1)\n",
        "lower_tri= np.tril([[1,2,3],[4,5,6],[7,8,9],[10,11,12]], -1)\n",
        "print(\"up_tri\\n\",up_tri)\n",
        "print(\"lower_tri\\n\",lower_tri)"
      ],
      "execution_count": null,
      "outputs": [
        {
          "output_type": "stream",
          "text": [
            "up_tri\n",
            " [[ 1  2  3]\n",
            " [ 4  5  6]\n",
            " [ 0  8  9]\n",
            " [ 0  0 12]]\n",
            "lower_tri\n",
            " [[ 0  0  0]\n",
            " [ 4  0  0]\n",
            " [ 7  8  0]\n",
            " [10 11 12]]\n"
          ],
          "name": "stdout"
        }
      ]
    },
    {
      "cell_type": "code",
      "metadata": {
        "id": "y2VcPiTLTza7",
        "colab_type": "code",
        "colab": {}
      },
      "source": [
        ""
      ],
      "execution_count": null,
      "outputs": []
    }
  ]
}